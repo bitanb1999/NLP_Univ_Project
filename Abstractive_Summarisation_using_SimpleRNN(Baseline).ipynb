{
  "metadata": {
    "kernelspec": {
      "language": "python",
      "display_name": "Python 3",
      "name": "python3"
    },
    "language_info": {
      "name": "python",
      "version": "3.7.12",
      "mimetype": "text/x-python",
      "codemirror_mode": {
        "name": "ipython",
        "version": 3
      },
      "pygments_lexer": "ipython3",
      "nbconvert_exporter": "python",
      "file_extension": ".py"
    },
    "colab": {
      "name": "Abstractive Summarisation using SimpleRNN(Baseline).ipynb",
      "provenance": [],
      "collapsed_sections": [],
      "include_colab_link": true
    }
  },
  "nbformat_minor": 0,
  "nbformat": 4,
  "cells": [
    {
      "cell_type": "markdown",
      "metadata": {
        "id": "view-in-github",
        "colab_type": "text"
      },
      "source": [
        "<a href=\"https://colab.research.google.com/github/bitanb1999/NLP_Univ_Project/blob/main/Abstractive_Summarisation_using_SimpleRNN(Baseline).ipynb\" target=\"_parent\"><img src=\"https://colab.research.google.com/assets/colab-badge.svg\" alt=\"Open In Colab\"/></a>"
      ]
    },
    {
      "cell_type": "markdown",
      "source": [
        "# Abstractive Summarisation using Baseline SimpleRNN model:\n"
      ],
      "metadata": {
        "id": "AbkKj-bcz34c"
      }
    },
    {
      "cell_type": "markdown",
      "source": [
        "### **What is RNN?**\n",
        "Recurrent Neural Network(RNN) are a type of Neural Network where the output from previous step are fed as input to the current step. In traditional neural networks, all the inputs and outputs are independent of each other, but in cases like when it is required to predict the next word of a sentence, the previous words are required and hence there is a need to remember the previous words. Thus RNN came into existence, which solved this issue with the help of a Hidden Layer. The main and most important feature of RNN is Hidden state, which remembers some information about a sequence.\n",
        "\n",
        "### **How do we plan to use simpleRNN?**\n",
        "\n",
        "The architechture involves using a simpleRNN tensorflow layers on the embeddings and obtaining the predictions, which would try to attain a decent summarisation. Given it is a baseline, we outperform this model with all the other models we experiment with."
      ],
      "metadata": {
        "id": "1zre8ehE0GiS"
      }
    },
    {
      "cell_type": "markdown",
      "source": [
        "#### Requirements:"
      ],
      "metadata": {
        "id": "B-cPfU5o1BYH"
      }
    },
    {
      "cell_type": "code",
      "source": [
        "import pandas as pd\n",
        "import numpy as np\n",
        "import tensorflow as tf\n",
        "import time\n",
        "import re\n",
        "import pickle"
      ],
      "metadata": {
        "execution": {
          "iopub.status.busy": "2022-07-29T15:13:23.548372Z",
          "iopub.execute_input": "2022-07-29T15:13:23.549155Z",
          "iopub.status.idle": "2022-07-29T15:13:23.554648Z",
          "shell.execute_reply.started": "2022-07-29T15:13:23.549116Z",
          "shell.execute_reply": "2022-07-29T15:13:23.553331Z"
        },
        "trusted": true,
        "id": "GsomDJaqjR3M"
      },
      "execution_count": null,
      "outputs": []
    },
    {
      "cell_type": "markdown",
      "source": [
        "### Dataset:"
      ],
      "metadata": {
        "id": "O7dvKgoc1kRx"
      }
    },
    {
      "cell_type": "code",
      "source": [
        "from google.colab import drive\n",
        "drive.mount('/content/drive')"
      ],
      "metadata": {
        "id": "Wg1ZzFmqjzmt"
      },
      "execution_count": null,
      "outputs": []
    },
    {
      "cell_type": "code",
      "source": [
        "df_all=pd.read_csv(\"/content/drive/MyDrive/AI3_project/df_all.csv\")"
      ],
      "metadata": {
        "execution": {
          "iopub.status.busy": "2022-07-29T15:13:23.744014Z",
          "iopub.execute_input": "2022-07-29T15:13:23.744863Z",
          "iopub.status.idle": "2022-07-29T15:13:23.966064Z",
          "shell.execute_reply.started": "2022-07-29T15:13:23.744807Z",
          "shell.execute_reply": "2022-07-29T15:13:23.964751Z"
        },
        "trusted": true,
        "id": "FZuZmnROjR3M"
      },
      "execution_count": null,
      "outputs": []
    },
    {
      "cell_type": "code",
      "source": [
        "df_all=df_all[:1001]"
      ],
      "metadata": {
        "id": "avYZZIdzjsAc"
      },
      "execution_count": null,
      "outputs": []
    },
    {
      "cell_type": "code",
      "source": [
        "df=df_all.drop([\"Unnamed: 0\",\"title\"],axis=1)\n",
        "df.head()"
      ],
      "metadata": {
        "execution": {
          "iopub.status.busy": "2022-07-29T15:13:23.968606Z",
          "iopub.execute_input": "2022-07-29T15:13:23.969030Z",
          "iopub.status.idle": "2022-07-29T15:13:23.992572Z",
          "shell.execute_reply.started": "2022-07-29T15:13:23.968993Z",
          "shell.execute_reply": "2022-07-29T15:13:23.991470Z"
        },
        "trusted": true,
        "colab": {
          "base_uri": "https://localhost:8080/",
          "height": 206
        },
        "id": "-U_mH4VdjR3N",
        "outputId": "972e1526-76f2-4439-fbc9-07619bf9ffd6"
      },
      "execution_count": null,
      "outputs": [
        {
          "output_type": "execute_result",
          "data": {
            "text/plain": [
              "                                            headline  \\\n",
              "0  \\nKeep related supplies in the same area.,\\nMa...   \n",
              "1  \\nCreate a sketch in the NeoPopRealist manner ...   \n",
              "2  \\nGet a bachelor’s degree.,\\nEnroll in a studi...   \n",
              "3  \\nStart with some experience or interest in ar...   \n",
              "4  \\nKeep your reference materials, sketches, art...   \n",
              "\n",
              "                                                text  \n",
              "0   If you're a photographer, keep all the necess...  \n",
              "1   See the image for how this drawing develops s...  \n",
              "2   It is possible to become a VFX artist without...  \n",
              "3   The best art investors do their research on t...  \n",
              "4   As you start planning for a project or work, ...  "
            ],
            "text/html": [
              "\n",
              "  <div id=\"df-f646c059-7138-4787-ac8c-569d27ff4b0a\">\n",
              "    <div class=\"colab-df-container\">\n",
              "      <div>\n",
              "<style scoped>\n",
              "    .dataframe tbody tr th:only-of-type {\n",
              "        vertical-align: middle;\n",
              "    }\n",
              "\n",
              "    .dataframe tbody tr th {\n",
              "        vertical-align: top;\n",
              "    }\n",
              "\n",
              "    .dataframe thead th {\n",
              "        text-align: right;\n",
              "    }\n",
              "</style>\n",
              "<table border=\"1\" class=\"dataframe\">\n",
              "  <thead>\n",
              "    <tr style=\"text-align: right;\">\n",
              "      <th></th>\n",
              "      <th>headline</th>\n",
              "      <th>text</th>\n",
              "    </tr>\n",
              "  </thead>\n",
              "  <tbody>\n",
              "    <tr>\n",
              "      <th>0</th>\n",
              "      <td>\\nKeep related supplies in the same area.,\\nMa...</td>\n",
              "      <td>If you're a photographer, keep all the necess...</td>\n",
              "    </tr>\n",
              "    <tr>\n",
              "      <th>1</th>\n",
              "      <td>\\nCreate a sketch in the NeoPopRealist manner ...</td>\n",
              "      <td>See the image for how this drawing develops s...</td>\n",
              "    </tr>\n",
              "    <tr>\n",
              "      <th>2</th>\n",
              "      <td>\\nGet a bachelor’s degree.,\\nEnroll in a studi...</td>\n",
              "      <td>It is possible to become a VFX artist without...</td>\n",
              "    </tr>\n",
              "    <tr>\n",
              "      <th>3</th>\n",
              "      <td>\\nStart with some experience or interest in ar...</td>\n",
              "      <td>The best art investors do their research on t...</td>\n",
              "    </tr>\n",
              "    <tr>\n",
              "      <th>4</th>\n",
              "      <td>\\nKeep your reference materials, sketches, art...</td>\n",
              "      <td>As you start planning for a project or work, ...</td>\n",
              "    </tr>\n",
              "  </tbody>\n",
              "</table>\n",
              "</div>\n",
              "      <button class=\"colab-df-convert\" onclick=\"convertToInteractive('df-f646c059-7138-4787-ac8c-569d27ff4b0a')\"\n",
              "              title=\"Convert this dataframe to an interactive table.\"\n",
              "              style=\"display:none;\">\n",
              "        \n",
              "  <svg xmlns=\"http://www.w3.org/2000/svg\" height=\"24px\"viewBox=\"0 0 24 24\"\n",
              "       width=\"24px\">\n",
              "    <path d=\"M0 0h24v24H0V0z\" fill=\"none\"/>\n",
              "    <path d=\"M18.56 5.44l.94 2.06.94-2.06 2.06-.94-2.06-.94-.94-2.06-.94 2.06-2.06.94zm-11 1L8.5 8.5l.94-2.06 2.06-.94-2.06-.94L8.5 2.5l-.94 2.06-2.06.94zm10 10l.94 2.06.94-2.06 2.06-.94-2.06-.94-.94-2.06-.94 2.06-2.06.94z\"/><path d=\"M17.41 7.96l-1.37-1.37c-.4-.4-.92-.59-1.43-.59-.52 0-1.04.2-1.43.59L10.3 9.45l-7.72 7.72c-.78.78-.78 2.05 0 2.83L4 21.41c.39.39.9.59 1.41.59.51 0 1.02-.2 1.41-.59l7.78-7.78 2.81-2.81c.8-.78.8-2.07 0-2.86zM5.41 20L4 18.59l7.72-7.72 1.47 1.35L5.41 20z\"/>\n",
              "  </svg>\n",
              "      </button>\n",
              "      \n",
              "  <style>\n",
              "    .colab-df-container {\n",
              "      display:flex;\n",
              "      flex-wrap:wrap;\n",
              "      gap: 12px;\n",
              "    }\n",
              "\n",
              "    .colab-df-convert {\n",
              "      background-color: #E8F0FE;\n",
              "      border: none;\n",
              "      border-radius: 50%;\n",
              "      cursor: pointer;\n",
              "      display: none;\n",
              "      fill: #1967D2;\n",
              "      height: 32px;\n",
              "      padding: 0 0 0 0;\n",
              "      width: 32px;\n",
              "    }\n",
              "\n",
              "    .colab-df-convert:hover {\n",
              "      background-color: #E2EBFA;\n",
              "      box-shadow: 0px 1px 2px rgba(60, 64, 67, 0.3), 0px 1px 3px 1px rgba(60, 64, 67, 0.15);\n",
              "      fill: #174EA6;\n",
              "    }\n",
              "\n",
              "    [theme=dark] .colab-df-convert {\n",
              "      background-color: #3B4455;\n",
              "      fill: #D2E3FC;\n",
              "    }\n",
              "\n",
              "    [theme=dark] .colab-df-convert:hover {\n",
              "      background-color: #434B5C;\n",
              "      box-shadow: 0px 1px 3px 1px rgba(0, 0, 0, 0.15);\n",
              "      filter: drop-shadow(0px 1px 2px rgba(0, 0, 0, 0.3));\n",
              "      fill: #FFFFFF;\n",
              "    }\n",
              "  </style>\n",
              "\n",
              "      <script>\n",
              "        const buttonEl =\n",
              "          document.querySelector('#df-f646c059-7138-4787-ac8c-569d27ff4b0a button.colab-df-convert');\n",
              "        buttonEl.style.display =\n",
              "          google.colab.kernel.accessAllowed ? 'block' : 'none';\n",
              "\n",
              "        async function convertToInteractive(key) {\n",
              "          const element = document.querySelector('#df-f646c059-7138-4787-ac8c-569d27ff4b0a');\n",
              "          const dataTable =\n",
              "            await google.colab.kernel.invokeFunction('convertToInteractive',\n",
              "                                                     [key], {});\n",
              "          if (!dataTable) return;\n",
              "\n",
              "          const docLinkHtml = 'Like what you see? Visit the ' +\n",
              "            '<a target=\"_blank\" href=https://colab.research.google.com/notebooks/data_table.ipynb>data table notebook</a>'\n",
              "            + ' to learn more about interactive tables.';\n",
              "          element.innerHTML = '';\n",
              "          dataTable['output_type'] = 'display_data';\n",
              "          await google.colab.output.renderOutput(dataTable, element);\n",
              "          const docLink = document.createElement('div');\n",
              "          docLink.innerHTML = docLinkHtml;\n",
              "          element.appendChild(docLink);\n",
              "        }\n",
              "      </script>\n",
              "    </div>\n",
              "  </div>\n",
              "  "
            ]
          },
          "metadata": {},
          "execution_count": 7
        }
      ]
    },
    {
      "cell_type": "code",
      "source": [
        "#clean data using helper code\n",
        "import re\n",
        "def transform(summary):\n",
        "    # Lower case\n",
        "    summary = summary.lower()\n",
        "    summary=summary.replace('\\n',' ')\n",
        "    # Remove HTML\n",
        "    summary = re.sub('<br /><br />', ' ', summary)\n",
        "    \n",
        "    # Replace all non-alphanumeric characters with spaces\n",
        "    summary = re.sub(r'[^a-zA-Z0-9\\s]', '', summary)\n",
        "    \n",
        "    return summary"
      ],
      "metadata": {
        "execution": {
          "iopub.status.busy": "2022-07-29T15:13:23.994188Z",
          "iopub.execute_input": "2022-07-29T15:13:23.994590Z",
          "iopub.status.idle": "2022-07-29T15:13:24.003656Z",
          "shell.execute_reply.started": "2022-07-29T15:13:23.994554Z",
          "shell.execute_reply": "2022-07-29T15:13:24.002704Z"
        },
        "trusted": true,
        "id": "inI2Jq1rjR3O"
      },
      "execution_count": null,
      "outputs": []
    },
    {
      "cell_type": "code",
      "source": [
        "df['headline']=df['headline'].apply(lambda x:transform(str(x)))\n",
        "df['text']=df['text'].apply(lambda x:transform(str(x)))\n"
      ],
      "metadata": {
        "execution": {
          "iopub.status.busy": "2022-07-29T15:13:24.839277Z",
          "iopub.execute_input": "2022-07-29T15:13:24.840217Z",
          "iopub.status.idle": "2022-07-29T15:13:25.193462Z",
          "shell.execute_reply.started": "2022-07-29T15:13:24.840180Z",
          "shell.execute_reply": "2022-07-29T15:13:25.192167Z"
        },
        "trusted": true,
        "id": "oRDqfaOBjR3P"
      },
      "execution_count": null,
      "outputs": []
    },
    {
      "cell_type": "code",
      "source": [
        "df['headline']=df['headline'].apply(lambda x: 'sostok '+str(x)+' eostok')\n",
        "df['text']=df['text'].apply(lambda x: 'sostok '+str(x)+' eostok')"
      ],
      "metadata": {
        "execution": {
          "iopub.status.busy": "2022-07-29T15:13:26.303136Z",
          "iopub.execute_input": "2022-07-29T15:13:26.303564Z",
          "iopub.status.idle": "2022-07-29T15:13:26.325328Z",
          "shell.execute_reply.started": "2022-07-29T15:13:26.303526Z",
          "shell.execute_reply": "2022-07-29T15:13:26.324079Z"
        },
        "trusted": true,
        "id": "g5trIZ7djR3P"
      },
      "execution_count": null,
      "outputs": []
    },
    {
      "cell_type": "code",
      "source": [
        "df.head()"
      ],
      "metadata": {
        "execution": {
          "iopub.status.busy": "2022-07-29T15:13:27.809027Z",
          "iopub.execute_input": "2022-07-29T15:13:27.809858Z",
          "iopub.status.idle": "2022-07-29T15:13:27.822394Z",
          "shell.execute_reply.started": "2022-07-29T15:13:27.809806Z",
          "shell.execute_reply": "2022-07-29T15:13:27.820852Z"
        },
        "trusted": true,
        "colab": {
          "base_uri": "https://localhost:8080/",
          "height": 206
        },
        "id": "OGMFMppAjR3Q",
        "outputId": "9ed58725-8bcb-48b4-e88a-19a8ac5ede61"
      },
      "execution_count": null,
      "outputs": [
        {
          "output_type": "execute_result",
          "data": {
            "text/plain": [
              "                                            headline  \\\n",
              "0  sostok  keep related supplies in the same area...   \n",
              "1  sostok  create a sketch in the neopoprealist m...   \n",
              "2  sostok  get a bachelors degree enroll in a stu...   \n",
              "3  sostok  start with some experience or interest...   \n",
              "4  sostok  keep your reference materials sketches...   \n",
              "\n",
              "                                                text  \n",
              "0  sostok  if youre a photographer keep all the n...  \n",
              "1  sostok  see the image for how this drawing dev...  \n",
              "2  sostok  it is possible to become a vfx artist ...  \n",
              "3  sostok  the best art investors do their resear...  \n",
              "4  sostok  as you start planning for a project or...  "
            ],
            "text/html": [
              "\n",
              "  <div id=\"df-9d50d75b-7a16-4bff-b86b-943a09f94467\">\n",
              "    <div class=\"colab-df-container\">\n",
              "      <div>\n",
              "<style scoped>\n",
              "    .dataframe tbody tr th:only-of-type {\n",
              "        vertical-align: middle;\n",
              "    }\n",
              "\n",
              "    .dataframe tbody tr th {\n",
              "        vertical-align: top;\n",
              "    }\n",
              "\n",
              "    .dataframe thead th {\n",
              "        text-align: right;\n",
              "    }\n",
              "</style>\n",
              "<table border=\"1\" class=\"dataframe\">\n",
              "  <thead>\n",
              "    <tr style=\"text-align: right;\">\n",
              "      <th></th>\n",
              "      <th>headline</th>\n",
              "      <th>text</th>\n",
              "    </tr>\n",
              "  </thead>\n",
              "  <tbody>\n",
              "    <tr>\n",
              "      <th>0</th>\n",
              "      <td>sostok  keep related supplies in the same area...</td>\n",
              "      <td>sostok  if youre a photographer keep all the n...</td>\n",
              "    </tr>\n",
              "    <tr>\n",
              "      <th>1</th>\n",
              "      <td>sostok  create a sketch in the neopoprealist m...</td>\n",
              "      <td>sostok  see the image for how this drawing dev...</td>\n",
              "    </tr>\n",
              "    <tr>\n",
              "      <th>2</th>\n",
              "      <td>sostok  get a bachelors degree enroll in a stu...</td>\n",
              "      <td>sostok  it is possible to become a vfx artist ...</td>\n",
              "    </tr>\n",
              "    <tr>\n",
              "      <th>3</th>\n",
              "      <td>sostok  start with some experience or interest...</td>\n",
              "      <td>sostok  the best art investors do their resear...</td>\n",
              "    </tr>\n",
              "    <tr>\n",
              "      <th>4</th>\n",
              "      <td>sostok  keep your reference materials sketches...</td>\n",
              "      <td>sostok  as you start planning for a project or...</td>\n",
              "    </tr>\n",
              "  </tbody>\n",
              "</table>\n",
              "</div>\n",
              "      <button class=\"colab-df-convert\" onclick=\"convertToInteractive('df-9d50d75b-7a16-4bff-b86b-943a09f94467')\"\n",
              "              title=\"Convert this dataframe to an interactive table.\"\n",
              "              style=\"display:none;\">\n",
              "        \n",
              "  <svg xmlns=\"http://www.w3.org/2000/svg\" height=\"24px\"viewBox=\"0 0 24 24\"\n",
              "       width=\"24px\">\n",
              "    <path d=\"M0 0h24v24H0V0z\" fill=\"none\"/>\n",
              "    <path d=\"M18.56 5.44l.94 2.06.94-2.06 2.06-.94-2.06-.94-.94-2.06-.94 2.06-2.06.94zm-11 1L8.5 8.5l.94-2.06 2.06-.94-2.06-.94L8.5 2.5l-.94 2.06-2.06.94zm10 10l.94 2.06.94-2.06 2.06-.94-2.06-.94-.94-2.06-.94 2.06-2.06.94z\"/><path d=\"M17.41 7.96l-1.37-1.37c-.4-.4-.92-.59-1.43-.59-.52 0-1.04.2-1.43.59L10.3 9.45l-7.72 7.72c-.78.78-.78 2.05 0 2.83L4 21.41c.39.39.9.59 1.41.59.51 0 1.02-.2 1.41-.59l7.78-7.78 2.81-2.81c.8-.78.8-2.07 0-2.86zM5.41 20L4 18.59l7.72-7.72 1.47 1.35L5.41 20z\"/>\n",
              "  </svg>\n",
              "      </button>\n",
              "      \n",
              "  <style>\n",
              "    .colab-df-container {\n",
              "      display:flex;\n",
              "      flex-wrap:wrap;\n",
              "      gap: 12px;\n",
              "    }\n",
              "\n",
              "    .colab-df-convert {\n",
              "      background-color: #E8F0FE;\n",
              "      border: none;\n",
              "      border-radius: 50%;\n",
              "      cursor: pointer;\n",
              "      display: none;\n",
              "      fill: #1967D2;\n",
              "      height: 32px;\n",
              "      padding: 0 0 0 0;\n",
              "      width: 32px;\n",
              "    }\n",
              "\n",
              "    .colab-df-convert:hover {\n",
              "      background-color: #E2EBFA;\n",
              "      box-shadow: 0px 1px 2px rgba(60, 64, 67, 0.3), 0px 1px 3px 1px rgba(60, 64, 67, 0.15);\n",
              "      fill: #174EA6;\n",
              "    }\n",
              "\n",
              "    [theme=dark] .colab-df-convert {\n",
              "      background-color: #3B4455;\n",
              "      fill: #D2E3FC;\n",
              "    }\n",
              "\n",
              "    [theme=dark] .colab-df-convert:hover {\n",
              "      background-color: #434B5C;\n",
              "      box-shadow: 0px 1px 3px 1px rgba(0, 0, 0, 0.15);\n",
              "      filter: drop-shadow(0px 1px 2px rgba(0, 0, 0, 0.3));\n",
              "      fill: #FFFFFF;\n",
              "    }\n",
              "  </style>\n",
              "\n",
              "      <script>\n",
              "        const buttonEl =\n",
              "          document.querySelector('#df-9d50d75b-7a16-4bff-b86b-943a09f94467 button.colab-df-convert');\n",
              "        buttonEl.style.display =\n",
              "          google.colab.kernel.accessAllowed ? 'block' : 'none';\n",
              "\n",
              "        async function convertToInteractive(key) {\n",
              "          const element = document.querySelector('#df-9d50d75b-7a16-4bff-b86b-943a09f94467');\n",
              "          const dataTable =\n",
              "            await google.colab.kernel.invokeFunction('convertToInteractive',\n",
              "                                                     [key], {});\n",
              "          if (!dataTable) return;\n",
              "\n",
              "          const docLinkHtml = 'Like what you see? Visit the ' +\n",
              "            '<a target=\"_blank\" href=https://colab.research.google.com/notebooks/data_table.ipynb>data table notebook</a>'\n",
              "            + ' to learn more about interactive tables.';\n",
              "          element.innerHTML = '';\n",
              "          dataTable['output_type'] = 'display_data';\n",
              "          await google.colab.output.renderOutput(dataTable, element);\n",
              "          const docLink = document.createElement('div');\n",
              "          docLink.innerHTML = docLinkHtml;\n",
              "          element.appendChild(docLink);\n",
              "        }\n",
              "      </script>\n",
              "    </div>\n",
              "  </div>\n",
              "  "
            ]
          },
          "metadata": {},
          "execution_count": 11
        }
      ]
    },
    {
      "cell_type": "code",
      "source": [
        "import numpy as np  \n",
        "import pandas as pd \n",
        "from keras.preprocessing.text import Tokenizer \n",
        "from keras.preprocessing.sequence import pad_sequences\n",
        "from nltk.corpus import stopwords   \n",
        "from tensorflow.keras.layers import Input, LSTM, Embedding, Dense, Concatenate, TimeDistributed, Bidirectional\n",
        "from tensorflow.keras.models import Model\n",
        "from tensorflow.keras.callbacks import EarlyStopping\n",
        "import warnings"
      ],
      "metadata": {
        "execution": {
          "iopub.status.busy": "2022-07-29T15:16:46.764191Z",
          "iopub.execute_input": "2022-07-29T15:16:46.765022Z",
          "iopub.status.idle": "2022-07-29T15:16:46.772306Z",
          "shell.execute_reply.started": "2022-07-29T15:16:46.764970Z",
          "shell.execute_reply": "2022-07-29T15:16:46.771081Z"
        },
        "trusted": true,
        "id": "2W2MglHWjR3Q"
      },
      "execution_count": null,
      "outputs": []
    },
    {
      "cell_type": "code",
      "source": [
        "from sklearn.model_selection import train_test_split\n",
        "x_tr,x_val,y_tr,y_val=train_test_split(df['text'],df['headline'],test_size=0.2,random_state=1,shuffle=True)"
      ],
      "metadata": {
        "execution": {
          "iopub.status.busy": "2022-07-29T15:16:47.363873Z",
          "iopub.execute_input": "2022-07-29T15:16:47.364841Z",
          "iopub.status.idle": "2022-07-29T15:16:47.383634Z",
          "shell.execute_reply.started": "2022-07-29T15:16:47.364781Z",
          "shell.execute_reply": "2022-07-29T15:16:47.382351Z"
        },
        "trusted": true,
        "id": "CwiKWA9xjR3R"
      },
      "execution_count": null,
      "outputs": []
    },
    {
      "cell_type": "markdown",
      "source": [
        "### Tokenisation:"
      ],
      "metadata": {
        "id": "Rr8FXtA01r0j"
      }
    },
    {
      "cell_type": "code",
      "source": [
        "#tokenisation\n",
        "import tensorflow as tf\n",
        "from tensorflow.keras.preprocessing.text import Tokenizer\n",
        "x_tokenizer=tf.keras.preprocessing.text.Tokenizer(\n",
        "    num_words=5000,\n",
        "    filters='!\"#$%&()*+,-./:;<=>?@[\\\\]^_`{|}~\\t\\n',\n",
        "    lower=True,\n",
        "    split=' ',\n",
        "    char_level=False,\n",
        "    oov_token=True,\n",
        ")\n",
        "x_tokenizer.fit_on_texts(x_tr)"
      ],
      "metadata": {
        "execution": {
          "iopub.status.busy": "2022-07-29T15:16:47.962947Z",
          "iopub.execute_input": "2022-07-29T15:16:47.963662Z",
          "iopub.status.idle": "2022-07-29T15:16:49.377803Z",
          "shell.execute_reply.started": "2022-07-29T15:16:47.963624Z",
          "shell.execute_reply": "2022-07-29T15:16:49.376528Z"
        },
        "trusted": true,
        "id": "Qoux-rjVjR3R"
      },
      "execution_count": null,
      "outputs": []
    },
    {
      "cell_type": "code",
      "source": [
        "#Find the percentage of occurrence of rare words (say, occurring less than 5 times) in the text.\n",
        "thresh = 5\n",
        "\n",
        "cnt = 0\n",
        "tot_cnt = 0\n",
        "\n",
        "for key, value in x_tokenizer.word_counts.items():\n",
        "    tot_cnt = tot_cnt + 1\n",
        "    if value < thresh:\n",
        "        cnt = cnt + 1\n",
        "    \n",
        "print(\"% of rare words in vocabulary: \", (cnt / tot_cnt) * 100)"
      ],
      "metadata": {
        "execution": {
          "iopub.status.busy": "2022-07-29T15:16:49.380523Z",
          "iopub.execute_input": "2022-07-29T15:16:49.381077Z",
          "iopub.status.idle": "2022-07-29T15:16:49.411283Z",
          "shell.execute_reply.started": "2022-07-29T15:16:49.381027Z",
          "shell.execute_reply": "2022-07-29T15:16:49.409863Z"
        },
        "trusted": true,
        "colab": {
          "base_uri": "https://localhost:8080/"
        },
        "id": "zG-89dOMjR3R",
        "outputId": "e980842d-0ba3-4ec8-ae9b-bfb8c635530d"
      },
      "execution_count": null,
      "outputs": [
        {
          "output_type": "stream",
          "name": "stdout",
          "text": [
            "% of rare words in vocabulary:  70.69465009978755\n"
          ]
        }
      ]
    },
    {
      "cell_type": "code",
      "source": [
        "max_length=500\n",
        "max_len_headlines=150"
      ],
      "metadata": {
        "execution": {
          "iopub.status.busy": "2022-07-29T15:16:49.412790Z",
          "iopub.execute_input": "2022-07-29T15:16:49.413278Z",
          "iopub.status.idle": "2022-07-29T15:16:49.419904Z",
          "shell.execute_reply.started": "2022-07-29T15:16:49.413230Z",
          "shell.execute_reply": "2022-07-29T15:16:49.418572Z"
        },
        "trusted": true,
        "id": "2lXJjEiTjR3S"
      },
      "execution_count": null,
      "outputs": []
    },
    {
      "cell_type": "code",
      "source": [
        "# Prepare a tokenizer, again -- by not considering the rare words\n",
        "x_tokenizer = Tokenizer(num_words = 5000) \n",
        "x_tokenizer.fit_on_texts(list(x_tr))\n",
        "\n",
        "# Convert text sequences to integer sequences \n",
        "x_tr_seq = x_tokenizer.texts_to_sequences(x_tr) \n",
        "x_val_seq = x_tokenizer.texts_to_sequences(x_val)\n",
        "\n",
        "# Pad zero upto maximum length\n",
        "x_tr = tf.keras.preprocessing.sequence.pad_sequences(x_tr_seq,  maxlen=max_length, padding='post')\n",
        "x_val = tf.keras.preprocessing.sequence.pad_sequences(x_val_seq, maxlen=max_length, padding='post')\n",
        "\n",
        "# Size of vocabulary (+1 for padding token)\n",
        "x_voc = x_tokenizer.num_words + 1\n",
        "\n",
        "print(\"Size of vocabulary in X = {}\".format(x_voc))"
      ],
      "metadata": {
        "execution": {
          "iopub.status.busy": "2022-07-29T15:16:51.383482Z",
          "iopub.execute_input": "2022-07-29T15:16:51.384327Z",
          "iopub.status.idle": "2022-07-29T15:16:54.232748Z",
          "shell.execute_reply.started": "2022-07-29T15:16:51.384280Z",
          "shell.execute_reply": "2022-07-29T15:16:54.231479Z"
        },
        "trusted": true,
        "colab": {
          "base_uri": "https://localhost:8080/"
        },
        "id": "GZsWhTBpjR3S",
        "outputId": "ff627c7e-2d1d-4aa9-f262-754cf830a38e"
      },
      "execution_count": null,
      "outputs": [
        {
          "output_type": "stream",
          "name": "stdout",
          "text": [
            "Size of vocabulary in X = 5001\n"
          ]
        }
      ]
    },
    {
      "cell_type": "code",
      "source": [
        "# Prepare a tokenizer on testing data\n",
        "y_tokenizer = Tokenizer()   \n",
        "y_tokenizer.fit_on_texts(list(y_tr))\n",
        "\n",
        "thresh = 5\n",
        "\n",
        "cnt = 0\n",
        "tot_cnt = 0\n",
        "\n",
        "for key, value in y_tokenizer.word_counts.items():\n",
        "    tot_cnt = tot_cnt + 1\n",
        "    if value < thresh:\n",
        "        cnt = cnt + 1\n",
        "    \n",
        "print(\"% of rare words in vocabulary:\",(cnt / tot_cnt) * 100)\n",
        "\n",
        "# Prepare a tokenizer, again -- by not considering the rare words\n",
        "y_tokenizer = Tokenizer(num_words=5000) \n",
        "y_tokenizer.fit_on_texts(list(y_tr))\n",
        "\n",
        "# Convert text sequences to integer sequences \n",
        "y_tr_seq = y_tokenizer.texts_to_sequences(y_tr) \n",
        "y_val_seq = y_tokenizer.texts_to_sequences(y_val) \n",
        "\n",
        "# Pad zero upto maximum length\n",
        "y_tr = tf.keras.preprocessing.sequence.pad_sequences(y_tr_seq, maxlen=max_length, padding='post')\n",
        "y_val = tf.keras.preprocessing.sequence.pad_sequences(y_val_seq, maxlen=max_length, padding='post')\n",
        "\n",
        "# Size of vocabulary (+1 for padding token)\n",
        "y_voc = y_tokenizer.num_words + 1\n",
        "\n",
        "print(\"Size of vocabulary in Y = {}\".format(y_voc))"
      ],
      "metadata": {
        "execution": {
          "iopub.status.busy": "2022-07-29T15:16:54.234576Z",
          "iopub.execute_input": "2022-07-29T15:16:54.234960Z",
          "iopub.status.idle": "2022-07-29T15:16:54.775732Z",
          "shell.execute_reply.started": "2022-07-29T15:16:54.234927Z",
          "shell.execute_reply": "2022-07-29T15:16:54.774340Z"
        },
        "trusted": true,
        "colab": {
          "base_uri": "https://localhost:8080/"
        },
        "id": "TyoFdhNFjR3S",
        "outputId": "6379c7b3-4628-4cf2-faa2-08e8ad9f1ae4"
      },
      "execution_count": null,
      "outputs": [
        {
          "output_type": "stream",
          "name": "stdout",
          "text": [
            "% of rare words in vocabulary: 76.43020594965675\n",
            "Size of vocabulary in Y = 5001\n"
          ]
        }
      ]
    },
    {
      "cell_type": "code",
      "source": [
        "# Remove empty Summaries, .i.e, which only have 'START' and 'END' tokens\n",
        "ind = []\n",
        "\n",
        "for i in range(len(y_tr)):\n",
        "    cnt = 0\n",
        "    for j in y_tr[i]:\n",
        "        if j != 0:\n",
        "            cnt = cnt + 1\n",
        "    if cnt == 2:\n",
        "        ind.append(i)\n",
        "\n",
        "y_tr = np.delete(y_tr, ind, axis=0)\n",
        "x_tr = np.delete(x_tr, ind, axis=0)"
      ],
      "metadata": {
        "execution": {
          "iopub.status.busy": "2022-07-29T15:16:54.780128Z",
          "iopub.execute_input": "2022-07-29T15:16:54.780514Z",
          "iopub.status.idle": "2022-07-29T15:16:57.330229Z",
          "shell.execute_reply.started": "2022-07-29T15:16:54.780478Z",
          "shell.execute_reply": "2022-07-29T15:16:57.328901Z"
        },
        "trusted": true,
        "id": "2_EWpZYMjR3T"
      },
      "execution_count": null,
      "outputs": []
    },
    {
      "cell_type": "code",
      "source": [
        "# Remove empty Summaries, .i.e, which only have 'START' and 'END' tokens\n",
        "ind = []\n",
        "for i in range(len(y_val)):\n",
        "    cnt = 0\n",
        "    for j in y_val[i]:\n",
        "        if j != 0:\n",
        "            cnt = cnt + 1\n",
        "    if cnt == 2:\n",
        "        ind.append(i)\n",
        "\n",
        "y_val = np.delete(y_val, ind, axis=0)\n",
        "x_val = np.delete(x_val, ind, axis=0)"
      ],
      "metadata": {
        "execution": {
          "iopub.status.busy": "2022-07-29T15:16:57.332221Z",
          "iopub.execute_input": "2022-07-29T15:16:57.333134Z",
          "iopub.status.idle": "2022-07-29T15:16:57.974287Z",
          "shell.execute_reply.started": "2022-07-29T15:16:57.333096Z",
          "shell.execute_reply": "2022-07-29T15:16:57.973117Z"
        },
        "trusted": true,
        "id": "bdxVfK2ojR3T"
      },
      "execution_count": null,
      "outputs": []
    },
    {
      "cell_type": "code",
      "source": [
        "\n",
        "def get_dataset(token_text, token_headline):\n",
        "\t# Get a list of all tokens\n",
        "\ttokens_ = [j for i in token_text for j in i]\n",
        "\n",
        "\t# Find the number of tokens\n",
        "\tN_words_text = len(set(tokens_))\n",
        "\n",
        "\ttarget_headline = [i[1:] for i in token_headline]\n",
        "\ttoken_headline = [i[:-1] for i in token_headline]\n",
        "\n",
        "\t# Create a ragged tensor from the token lists\n",
        "\tragged_text = tf.ragged.constant(token_text)\n",
        "\tragged_headline = tf.ragged.constant(token_headline)\n",
        "\tragged_target = tf.ragged.constant(target_headline)\n",
        "\n",
        "\t# Use from_tensor_slices to create tf dataset. The dataset will be of the form - ((input_text, input_headline), target_headline)\n",
        "\tdataset = tf.data.Dataset.from_tensor_slices((ragged_text, ragged_headline, ragged_target))\n",
        "\tdataset = dataset.shuffle(500)\n",
        "\n",
        "\t# Set the size of the batch\n",
        "\tdataset = dataset.batch(128)\n",
        "\tdataset = dataset.map(lambda x,y,z: ((x.to_tensor(default_value=0, shape=[None, None]), y.to_tensor(default_value=0, shape=[None, None])), z.to_tensor(default_value=0, shape=[None, None])) , num_parallel_calls=5)\n",
        "\tdataset = dataset.prefetch(1)\n",
        "\n",
        "\treturn dataset\n",
        "\n",
        "\n",
        "\n"
      ],
      "metadata": {
        "execution": {
          "iopub.status.busy": "2022-07-29T15:16:59.233624Z",
          "iopub.execute_input": "2022-07-29T15:16:59.234489Z",
          "iopub.status.idle": "2022-07-29T15:16:59.243708Z",
          "shell.execute_reply.started": "2022-07-29T15:16:59.234448Z",
          "shell.execute_reply": "2022-07-29T15:16:59.242799Z"
        },
        "trusted": true,
        "id": "tQ6JsgZHjR3T"
      },
      "execution_count": null,
      "outputs": []
    },
    {
      "cell_type": "code",
      "source": [
        "token_text = x_tokenizer.texts_to_sequences(df[\"text\"])\n",
        "token_headline=y_tokenizer.texts_to_sequences(df[\"headline\"])\n",
        "tfdataset=get_dataset(token_text,token_headline)"
      ],
      "metadata": {
        "execution": {
          "iopub.status.busy": "2022-07-29T15:16:59.663422Z",
          "iopub.execute_input": "2022-07-29T15:16:59.663850Z",
          "iopub.status.idle": "2022-07-29T15:17:07.934205Z",
          "shell.execute_reply.started": "2022-07-29T15:16:59.663813Z",
          "shell.execute_reply": "2022-07-29T15:17:07.933062Z"
        },
        "trusted": true,
        "id": "ihQCB4r_jR3U"
      },
      "execution_count": null,
      "outputs": []
    },
    {
      "cell_type": "markdown",
      "source": [
        "### Modeling:"
      ],
      "metadata": {
        "id": "TpXvqqbY10Te"
      }
    },
    {
      "cell_type": "code",
      "source": [
        "\n",
        "vocab_size = 5000\n",
        "\n",
        "inputs_text = tf.keras.Input(shape=tfdataset.element_spec[0][0].shape[1:])\n",
        "\n",
        "# Set the input size to the decoder.\n",
        "inputs_headline = tf.keras.Input(shape=tfdataset.element_spec[0][1].shape[1:])\n",
        "\n",
        "# Specifying the size of embedding \n",
        "text_dim = 300\n",
        "headline_dim = text_dim\n",
        "\n",
        "hid_text = 30\n",
        "\n",
        "emb_text = tf.keras.layers.Embedding(input_dim=vocab_size, \n",
        "                                    output_dim = text_dim, \n",
        "                                    mask_zero=True)(inputs_text)\n",
        "\n",
        "RNN_text = tf.keras.layers.SimpleRNN(hid_text, activation='tanh', dropout=0.4,recurrent_dropout=0.4,return_sequences=False)\n",
        "state_text = RNN_text(emb_text)\n"
      ],
      "metadata": {
        "execution": {
          "iopub.status.busy": "2022-07-29T15:17:07.938809Z",
          "iopub.execute_input": "2022-07-29T15:17:07.939164Z",
          "iopub.status.idle": "2022-07-29T15:17:08.037768Z",
          "shell.execute_reply.started": "2022-07-29T15:17:07.939132Z",
          "shell.execute_reply": "2022-07-29T15:17:08.036620Z"
        },
        "trusted": true,
        "id": "HmQPTJtYjR3U"
      },
      "execution_count": null,
      "outputs": []
    },
    {
      "cell_type": "code",
      "source": [
        "# Set the size of the hidden state of the decoder as 10\n",
        "hid_headline = 30\n",
        "# Embedding layer for the decoder\n",
        "emb_headline = tf.keras.layers.Embedding(input_dim=vocab_size+1, \n",
        "                                    output_dim = headline_dim, \n",
        "                                    mask_zero=True)(inputs_headline)\n",
        "\n",
        "RNN_headline = tf.keras.layers.SimpleRNN(hid_headline, activation='tanh', dropout=0.4,recurrent_dropout=0.4,return_sequences=True)\n",
        "states_headline = RNN_headline(emb_headline, initial_state=state_text)"
      ],
      "metadata": {
        "execution": {
          "iopub.status.busy": "2022-07-29T15:17:09.654300Z",
          "iopub.execute_input": "2022-07-29T15:17:09.654771Z",
          "iopub.status.idle": "2022-07-29T15:17:09.745219Z",
          "shell.execute_reply.started": "2022-07-29T15:17:09.654730Z",
          "shell.execute_reply": "2022-07-29T15:17:09.744376Z"
        },
        "trusted": true,
        "id": "fKMvqERLjR3U"
      },
      "execution_count": null,
      "outputs": []
    },
    {
      "cell_type": "code",
      "source": [
        "\n",
        "layer_output_headline = tf.keras.layers.Dense(vocab_size+1,activation='softmax')\n",
        "\n",
        "# Get the output of the output layer of the decoder given the\n",
        "# state of the decoder as input, y^\n",
        "output_headline = layer_output_headline(states_headline)"
      ],
      "metadata": {
        "execution": {
          "iopub.status.busy": "2022-07-29T15:17:09.792792Z",
          "iopub.execute_input": "2022-07-29T15:17:09.793234Z",
          "iopub.status.idle": "2022-07-29T15:17:09.823512Z",
          "shell.execute_reply.started": "2022-07-29T15:17:09.793196Z",
          "shell.execute_reply": "2022-07-29T15:17:09.822122Z"
        },
        "trusted": true,
        "id": "9VhuJpZ6jR3U"
      },
      "execution_count": null,
      "outputs": []
    },
    {
      "cell_type": "code",
      "source": [
        "# Form the seq2seq model with the encoder and decoder\n",
        "\n",
        "model = tf.keras.Model(inputs=(inputs_text, inputs_headline), outputs=output_headline)\n",
        "optimizer= tf.keras.optimizers.Adam(learning_rate=1e-3)\n",
        "model.compile(optimizer=optimizer, loss=tf.keras.losses.sparse_categorical_crossentropy)\n"
      ],
      "metadata": {
        "execution": {
          "iopub.status.busy": "2022-07-29T15:17:09.943369Z",
          "iopub.execute_input": "2022-07-29T15:17:09.944168Z",
          "iopub.status.idle": "2022-07-29T15:17:09.959504Z",
          "shell.execute_reply.started": "2022-07-29T15:17:09.944109Z",
          "shell.execute_reply": "2022-07-29T15:17:09.958105Z"
        },
        "trusted": true,
        "id": "goG0XzNwjR3U"
      },
      "execution_count": null,
      "outputs": []
    },
    {
      "cell_type": "code",
      "source": [
        "model.summary()"
      ],
      "metadata": {
        "execution": {
          "iopub.status.busy": "2022-07-29T15:17:10.133013Z",
          "iopub.execute_input": "2022-07-29T15:17:10.133423Z",
          "iopub.status.idle": "2022-07-29T15:17:10.140891Z",
          "shell.execute_reply.started": "2022-07-29T15:17:10.133390Z",
          "shell.execute_reply": "2022-07-29T15:17:10.139434Z"
        },
        "trusted": true,
        "colab": {
          "base_uri": "https://localhost:8080/"
        },
        "id": "7XWyfjhFjR3V",
        "outputId": "5d3d5505-ad85-4691-d107-4a2fc66a2809"
      },
      "execution_count": null,
      "outputs": [
        {
          "output_type": "stream",
          "name": "stdout",
          "text": [
            "Model: \"model\"\n",
            "__________________________________________________________________________________________________\n",
            " Layer (type)                   Output Shape         Param #     Connected to                     \n",
            "==================================================================================================\n",
            " input_1 (InputLayer)           [(None, None)]       0           []                               \n",
            "                                                                                                  \n",
            " input_2 (InputLayer)           [(None, None)]       0           []                               \n",
            "                                                                                                  \n",
            " embedding (Embedding)          (None, None, 300)    1500000     ['input_1[0][0]']                \n",
            "                                                                                                  \n",
            " embedding_1 (Embedding)        (None, None, 300)    1500300     ['input_2[0][0]']                \n",
            "                                                                                                  \n",
            " simple_rnn (SimpleRNN)         (None, 30)           9930        ['embedding[0][0]']              \n",
            "                                                                                                  \n",
            " simple_rnn_1 (SimpleRNN)       (None, None, 30)     9930        ['embedding_1[0][0]',            \n",
            "                                                                  'simple_rnn[0][0]']             \n",
            "                                                                                                  \n",
            " dense (Dense)                  (None, None, 5001)   155031      ['simple_rnn_1[0][0]']           \n",
            "                                                                                                  \n",
            "==================================================================================================\n",
            "Total params: 3,175,191\n",
            "Trainable params: 3,175,191\n",
            "Non-trainable params: 0\n",
            "__________________________________________________________________________________________________\n"
          ]
        }
      ]
    },
    {
      "cell_type": "code",
      "source": [
        "tf.keras.utils.plot_model(\n",
        "    model,\n",
        "    to_file=\"model.png\",\n",
        "    show_shapes=False,\n",
        "    show_dtype=False,\n",
        "    show_layer_names=True,\n",
        "    rankdir=\"TB\",\n",
        "    expand_nested=False,\n",
        "    dpi=96,\n",
        "    layer_range=None,\n",
        ")"
      ],
      "metadata": {
        "execution": {
          "iopub.status.busy": "2022-07-29T15:17:10.284463Z",
          "iopub.execute_input": "2022-07-29T15:17:10.284900Z",
          "iopub.status.idle": "2022-07-29T15:17:10.764040Z",
          "shell.execute_reply.started": "2022-07-29T15:17:10.284864Z",
          "shell.execute_reply": "2022-07-29T15:17:10.762946Z"
        },
        "trusted": true,
        "colab": {
          "base_uri": "https://localhost:8080/",
          "height": 466
        },
        "id": "mHrf0liJjR3V",
        "outputId": "865aade6-d16c-42f5-b2d9-5f094b82c87f"
      },
      "execution_count": null,
      "outputs": [
        {
          "output_type": "execute_result",
          "data": {
            "text/plain": [
              "<IPython.core.display.Image object>"
            ],
            "image/png": "[encoded data removed]"
          },
          "metadata": {},
          "execution_count": 28
        }
      ]
    },
    {
      "cell_type": "code",
      "source": [
        "tf.data.experimental.save(tfdataset, '/content/drive/MyDrive/AI3_project/tfdataset/')\n",
        "# "
      ],
      "metadata": {
        "execution": {
          "iopub.status.busy": "2022-07-29T15:20:24.589965Z",
          "iopub.execute_input": "2022-07-29T15:20:24.591129Z",
          "iopub.status.idle": "2022-07-29T15:20:24.631717Z",
          "shell.execute_reply.started": "2022-07-29T15:20:24.591088Z",
          "shell.execute_reply": "2022-07-29T15:20:24.630108Z"
        },
        "trusted": true,
        "id": "xPKrKLy4jR3V"
      },
      "execution_count": null,
      "outputs": []
    },
    {
      "cell_type": "code",
      "source": [
        "tfdataset = tf.data.experimental.load('/content/drive/MyDrive/AI3_project/tfdataset/')"
      ],
      "metadata": {
        "id": "E6ZPWOaAkQCb"
      },
      "execution_count": null,
      "outputs": []
    },
    {
      "cell_type": "markdown",
      "source": [
        "### Training:"
      ],
      "metadata": {
        "id": "SqWNP4bu17GQ"
      }
    },
    {
      "cell_type": "code",
      "source": [
        "history=model.fit(tfdataset, epochs=5,verbose=1)"
      ],
      "metadata": {
        "execution": {
          "iopub.status.busy": "2022-07-29T15:17:32.693524Z",
          "iopub.execute_input": "2022-07-29T15:17:32.693977Z",
          "iopub.status.idle": "2022-07-29T15:17:51.512430Z",
          "shell.execute_reply.started": "2022-07-29T15:17:32.693939Z",
          "shell.execute_reply": "2022-07-29T15:17:51.509557Z"
        },
        "trusted": true,
        "colab": {
          "base_uri": "https://localhost:8080/"
        },
        "id": "Xt13OV3GjR3V",
        "outputId": "c6597686-bfc1-4054-8686-1cdc64b2a513"
      },
      "execution_count": null,
      "outputs": [
        {
          "output_type": "stream",
          "name": "stdout",
          "text": [
            "Epoch 1/5\n",
            "8/8 [==============================] - 93s 11s/step - loss: 1.5886\n",
            "Epoch 2/5\n",
            "8/8 [==============================] - 66s 8s/step - loss: 1.7520\n",
            "Epoch 3/5\n",
            "8/8 [==============================] - 76s 10s/step - loss: 1.5709\n",
            "Epoch 4/5\n",
            "8/8 [==============================] - 69s 9s/step - loss: 1.6173\n",
            "Epoch 5/5\n",
            "8/8 [==============================] - 71s 9s/step - loss: 1.6473\n"
          ]
        }
      ]
    },
    {
      "cell_type": "markdown",
      "source": [
        "### Inference:"
      ],
      "metadata": {
        "id": "p5VOAqXh2BWK"
      }
    },
    {
      "cell_type": "code",
      "source": [
        "X=[]\n",
        "Y=[]\n",
        "for sample in tfdataset.take(10):\n",
        "  in_ = sample[0][:2]\n",
        "  res = model.predict(in_)[0]\n",
        "  st = \"\"\n",
        "\n",
        "  print(f'Training Text: \\t\\t {st.join(x_tokenizer.sequences_to_texts(in_[0].numpy()[:1]))}')\n",
        "  print(f'True Summary:\\t {st.join(y_tokenizer.sequences_to_texts([in_[1].numpy()[0]]))}')\n",
        "  x=[y_tokenizer.sequences_to_texts([in_[1].numpy()[0]])]\n",
        "  print(f'Predicted Summary:\\t\\t {st.join(x_tokenizer.sequences_to_texts([res.argmax(axis=1)]))}')\n",
        "  y=[x_tokenizer.sequences_to_texts([res.argmax(axis=1)])]\n",
        "  X.append(x)\n",
        "  Y.append(y)"
      ],
      "metadata": {
        "colab": {
          "base_uri": "https://localhost:8080/"
        },
        "id": "o-F6y9BwjR3V",
        "outputId": "83bc3673-4f3e-4158-f1fc-2fa6dfe18781"
      },
      "execution_count": null,
      "outputs": [
        {
          "output_type": "stream",
          "name": "stdout",
          "text": [
            "Training Text: \t\t sostok it can be any color and any type as long as it could not potentially harm your guinea pig set it in the area you will be training in be sure to turn it so that your guinea pig will not knock it over as you begin to teach the trick a garbage can that may have anything that could be harmful should not be used gently lift them out of their cage and set them down near the garbage object allow the guinea pig to sniff around if they feel the need some may ignore it but this does not mean that they wont do the patience hold out one of the treats and your guinea pig towards the garbage can move it slightly further away and around it until your guinea pig has completed a of the circle click and treat do this three or four times until your guinea pig becomes comfortable with moving around it a bit every time the guinea pig moves forward a few steps reward them with a verbal marker and a treat gradually increase the amount of steps they take before receiving the treat hopefully your guinea pig will soon discover that moving around the garbage can does not go without many will figure this out within a few minutes of doing that same thing but if they dont go back to and go on from there as many times as your guinea pig needs it some guinea pigs will pick this up faster than others and thats okay no piggy is perfect no matter how intelligent they may be the hand motion can be whatever you see fit but i have found that holding a finger above the object where the guinea pig can clearly see it and moving it around in a circular motion saying the command around or spin may help as well but verbal commands are more for the than for the animal themselves from this point on only treat your guinea pig when they walk around after your hand motion if they do it without your motion just sit until they are done and ask them to do it afterwards if they do it treat and praise them it takes many guinea pigs a long time to understand this but if the is persistent it will be very rewarding in the end once the guinea pig is very good at walking around the garbage can on your hand motion put the can up somewhere and do the motion this can be very easy or very hard depending on the piggy eostok\n",
            "True Summary:\t sostok get a small garbage can or round cylindershaped object of some sort place your guinea pig in the general area use a treat to lure your guinea pig to it stand back and see if the guinea pig will try to go around on its own eventually begin only treating your guinea pig when they make a full circle around the object begin enforcing a hand motion take the garbage can away gradually\n",
            "Predicted Summary:\t\t into have this want you best talk do another him or conversation important while show is the him one no since you one maybe comfortable saying wear then the on call no important its of start important bit will them something go then while a saying yourself will the him one you bit no yourself while like much spend back while does a compliment example are if bit a someone one the into spend spend spend spend spend spend spend spend spend spend spend spend spend spend spend spend spend spend spend spend spend spend spend spend spend spend spend spend spend spend spend spend spend spend spend spend spend spend spend spend spend spend spend spend spend spend spend spend spend spend spend spend spend spend spend spend spend spend spend spend spend spend spend spend spend spend spend spend spend spend spend spend spend spend spend spend spend spend spend spend spend spend spend spend spend spend spend spend spend spend spend spend spend spend spend spend spend spend spend spend spend spend spend spend spend spend spend spend spend spend spend spend spend spend spend spend spend spend spend spend spend spend spend spend spend spend spend spend spend spend spend spend spend spend spend spend spend spend spend spend spend spend spend spend spend spend spend spend spend spend spend spend spend spend spend spend spend spend spend\n",
            "Training Text: \t\t sostok like most pets guinea pigs can learn to come to you when called with a little practice and motivation in the form a treat make sure you use your guinea pigs name often and address her by name when you feed her and give her treats you can also practice getting her to come to you when called by taking her out of her cage and placing her a few feet away from you call her by name and hold out one of her favorite treats your guinea pig should be motivated to run to you when she does so give her a treat as a reward practice this at least once a day and over time she should come to you when called by name outside her cage and inside her cage this is another simple command you can teach your guinea pig using a treat hold a treat above your guinea pigs head so she has to stand on her back legs to get to it say the command stand up and then let her have the treat once she is on her back legs repeat this command once a day on a consistent basis over time your guinea pig will stand up when you command her even when you are not holding a treat you can practice this command with your guinea pig when she is in her cage or outside of her cage hold a treat in your hand and let your guinea pig approach you when she is in front of you move your hand so you make a circle and say the command circle your guinea pig should follow the motion of your hand with the treat and make a circle once she makes a circle give her the treat repeat this once a day until she can circle on command without the treat use a ball that is not too heavy and not too big like a tennis ball so your guinea pig can it easily you will also need a treat that is long and flat like a carrot stick place the carrot stick on the ground and then put the tennis ball on top of the carrot stick encourage your guinea pig to try to push the ball off the treat so she can access the treat and say push the ball repeat these steps and over time you should be able to remove the treat so she learns to push the ball on her own without the treat you will need a hoop that is about 6 10 in or you can use cleaners to form a hoop that is close to that size the top of an ice cream tub or a tennis without the would also work make sure that whatever you use as a hoop there are no sharp edges or anything your guinea pig can get stuck on as she learns to by holding the hoop so it touches the ground or the bottom of your guinea pigs cage hold a treat on one side of the hoop or have someone help you by holding the treat as you hold the hoop call your guinea pigs name and make sure she can see the treat on the other side of the hoop say the command through the hoop you may need to give your guinea pig a nudge or a gentle push to convince her to jump through the hoop over time she will be motivated enough by the treat to jump through the hoop and get it praise her and give her the treat when she goes through the hoop repeat these steps until your guinea pig starts to go through the hoop on her own without the motivation of the treat many guinea pig owners teach their pets to go to the bathroom in a litter box however this takes a lot of patience and practice when you are first litter box training your guinea pig be prepared for some accidents and do not scold or punish your guinea pig if this happens your guinea pig will respond more to positive reinforcement and litter train your guinea pig place a litter box in the spot in her cage where she goes to the bathroom often place a of hay in the box and a few pellets when you notice your guinea pig using the litter box give her a treat as praise over time she will understand that using the litter box is a good thing that leads to treats and she will start to use it on a regular basis eostok\n",
            "True Summary:\t sostok train her to come to you when she is called practice the stand up command do the turn in a circle command train your guinea pig to push a ball teach her to jump through a hoop practice litter box training\n",
            "Predicted Summary:\t\t someone crush this crush the you a do too like like more time only while no day until one kind his no yourself before try is have else one then the lot one maybe the you a maybe important to a some some some some some some some some some some some some some some some some some some some some some some some some some some some some some some some some some some some some some some some some some some some some some some some some some some some some some some some some some some some some some some some some some some some some some some some some some some some some some some some some some some some some some some some some some some some some some some some some some some some some some some some some some some some some some some some some some some some some some some some some some some some some some some some some some some some some some some some some some some some some some some some some some some some some some some some some some some some some some some some some some some some some some some some some some some some some some some some some some some some some some some some some some some some some some some some some some some some some some some some some some some some some some some some some some some some some some some some some some some some some some some some some some some some some some some some some some\n",
            "Training Text: \t\t sostok the next time youre around each guy make an effort to really engage him and to think about what it is you like about him so much though you cant always down the complicated feelings that make you like a person its important to have as much information as possible when you make such an important decision ask yourself the following questions when you talk to each guy does he make me laugh does he have a good sense of humor were all attracted to people who can make us laugh guys with a good sense of humor make us excited and cause us to look at the world in a different way if he you is it weird or do you like it no guy should touch you in the obvious places unless you are ready for that but like a hug around the waist holding hands or even his arm around you is okay but if youre at the stage where he is going to kiss you and you kiss him back make sure that you are ready to be at that stage when he kisses you be sure you know how to kiss you dont want it to be awkward the guy you are going to choose needs to be able to himself does he seem curious about other people is he interested in things outside himself guys who are only interested in themselves can be pretty boring youll want a guy who has hobbies friends and a good perspective on life is he in touch with his emotional side is he sensitive about other people lots of guys have an emotional side the problem is they dont want other people to see it a guy whos okay with other people seeing his emotions is a guy whos both confident and mature does he flirt respectfully basically the ask question down to this does it seem like he likes you for more than just your body or just your looks are the compliments he gives you more than just about your body does he take things slow guys who take things slow like to things they care about getting every last drop of out of being around you guys who are moving at the speed of light are often onto the next girl faster than you can say this is just as important as thinking about what you like about each guy one guy may look better on paper and may have all of the qualities that youre looking for but the other guy may have the ability to make your heart just by sending you a text message so the next time youre around each guy think not only about why you like him but ask yourself if he makes you feel confident happy giddy and like a better person here are some things to consider how does he make you feel when youre around him does he make you feel like hes only interested in you or does he seem like he flirts with other girls all the time and youre just another girl on his long list does he bring out the best in you or is he okay with you just being okay does he challenge you and make you want to be a better person does he compliment you in a way that is meaningful and not forced does he make you blush giggle and feel like a giddy little girl does he treat you like a lady and make you feel special though you may only be thinking about all of the great qualities of both guys and about how they both give you butterflies you should also consider the negative aspects of their personality or lifestyle to get more clarification if youre serious about making this choice then you have to consider the pros and the cons of being with each guy here are some things to consider as you make your decision does the guy have a lot of does he have a complicated past and a of emotional issues to deal with sure you may have fun with him but is that something you want to be responsible for in the long run is he and manipulative does he always try to get his way or is he of admitting hes wrong these are serious signs that hes probably a little and signs that you might get more than you for in a relationship has he to you you want a guy that you can trust a guy whos not afraid to be honest with you regardless of how much the truth hurts guys who like gossiping and starting rumors probably dont care much about other people meaning stay away from him does he constantly get in trouble either at school with his parents or with the authorities bad boys may have a certain about them but chances are if theyre constantly distracted with or they wont have any time to be around you does he still talk about his exgirlfriend if hes still talking about his ex dropping in little hints from time to time or constantly talking about her thats a bad sign it doesnt mean that hes a bad guy it just means that he still loves her if both guys are completely to you then you have a tough task on your hands though you shouldnt go with the guy who likes you more just because its a safer choice you should consider how important you are to each guy and what it would mean to him if you stopped seeing him if he would just shrug it off and then move on to the next girl then hes not the guy for you if you think one of the guys likes you much more than the other then this should play a strong part in your decision you dont have to ask outright you can get a sense of how much guy feels about you just by the way he looks at you by how often he wants to hang out and by how much he talks about a future together of course if youre just looking to have fun with a summer fling or to get some dating experience for a few months then you dont have to care so much about whether the guy sees you as long term potential your friends are there for a reason they offer shoulders to lean on provide examples of how to behave and give you advice when you need it take their advice but with a grain of salt youre making the decision at the end of the day remember that youre not asking them to help you pick the better guy or the guy that they would pick but that you want them to help you decide whats right for you dont ask who do you like better ask who do you think is better for me these questions will keep you from getting suggestions about who your friends would date instead of who you should date be open to their suggestions if you have your mind made up about who you want to date theres no use in asking your friends about their opinion if you ask them for their input be ready to follow it this will help you see what you really wanted in the first place how does each one make you feel make a list of what you really want in a guy and dont do a about each guys strengths and weaknesses see how this lines up with the list of what you want out of a guy here are some other questions you can ask which guy will treat me better which guy will be there for me through the tough times which guy do i have more in common with which guys face will i always want to see at the end of the day which guy will get along better with my friends and family which guy can i not live without we cant pick and choose who we like were born a certain way and we eventually develop likes and dislikes dont overthink things trust what your gut tells you about these guys and go for it flip a in the air tell yourself that if it on heads you have to go with guy a and if it on tails you have to go with guy b while the is in the air where do you want it to land thats your answer if you know one guy is bad for you but cant help feeling attracted to him and dont really like the other guy take a break from both guys not being in a relationship really isnt bad in fact its much better than being learn from your mistakes if youve dated a certain guy before and the relationship ended poorly dont make the same mistake all over again with another guy even if you feel attracted to him whats the use in going through the same thing all over again if it caused you heartbreak and dont feel like you need to make a decision right away your decision could take some time during that time hopefully one of the guys will do something good or bad to make the decision much easier for you as long as you havent committed to either guy and dont feel like youre being to one guy by hanging out with the other then you should take some time to make the decision just dont drag it on too long if you pick one guy but he finds out that youve been hanging out with another guy for the last few months then he may feel hurt or once youve made your decision stick to it that doesnt mean you have to tell the guy hey i you over guy a that wont make the guy feel very special the commitment is something you make through your actions and your heart work on building a healthy stable relationship with the guy youve chosen and only the guy youve chosen get ready to start dating and hanging out with only the guy youve chosen enjoy the benefits of being with one person without wondering what another guy is up to if you feel empty or without the other guy then it may either mean that you made the wrong decision or that you never liked the first guy that much in the first place you only liked the chase be friendly to the other guy but dont go out of your way to hang out with him or do stuff alone together if youre overly friendly with him he might think that he still has a chance plus it might get the guy you jealous know that choosing between two guys will affect your relationship with both of them this is the of relationships chances are good that youre going to break the other guys heart and miss out on a relationship with him if the guy you dont choose doesnt know about the first guy you dont have to make it a big deal or give him the real reason why youre ending your relationship though you should be happy once youve made your decision know that the may still be a bit know that you may turn guys against each other what if both guys are best friends what do you do then if you choose one and the other likes you theyll probably stop being best friends if you want to avoid this situation altogether date someone else instead be prepared to lose the guy that you didnt choose he may not want to be just friends after you hung out romantically or flirted with each other but that may be for the best life is yours to live and you deserve to live it the way you want while trying to hurt others as little as possible though you may feel guilty for making the decision you and the two guys are better off once youve come to terms with your feelings be proud of yourself for making a mature choice instead of leading two guys on forever dont be afraid of making mistakes as long as you learn from them dont worry about having everyone like you when youre making a big decision like this feelings will get hurt eostok\n",
            "True Summary:\t sostok consider the positive qualities of each guy consider how each guy makes you feel consider the negative qualities of the guy consider how each guy feels about you ask your trusted friends for their opinions weigh their similarities and differences in a list trust your gut dont rush it commit to the guy youve chosen be prepared for the aftermath accept your decision\n",
            "Predicted Summary:\t\t he new are one horses you now they open like an more go says enough someone may crush or one you a yourself own saying like you much this seem this will out no just a back have time like joke like more back your while this do movie crush or you talk a your try like no more or while while with lot lot lot lot lot lot lot lot lot lot lot lot lot lot lot lot lot lot lot lot lot lot lot lot lot lot lot lot lot lot lot lot lot lot lot lot lot lot lot lot lot lot lot lot lot lot lot lot lot lot lot lot lot lot lot lot lot lot lot lot lot lot lot lot lot lot lot lot lot lot lot lot lot lot lot lot lot lot lot lot lot lot lot lot lot lot lot lot lot lot lot lot lot lot lot lot lot lot lot lot lot lot lot lot lot lot lot lot lot lot lot lot lot lot lot lot lot lot lot lot lot lot lot lot lot lot lot lot lot lot lot lot lot lot lot lot lot lot lot lot lot lot lot lot lot lot lot lot lot lot lot lot lot lot lot lot lot lot lot lot lot lot lot lot lot lot lot lot lot lot lot lot lot lot lot lot lot lot lot lot lot lot lot lot lot lot lot lot lot lot lot lot lot lot lot lot lot lot lot lot lot lot lot lot lot lot lot lot lot lot lot lot lot lot lot lot lot lot lot lot lot lot lot lot lot lot lot lot lot lot lot lot lot lot lot lot lot lot lot lot lot lot lot lot lot lot lot lot lot lot lot lot lot lot lot lot lot lot lot lot lot lot lot lot lot lot lot lot lot lot lot lot lot lot lot lot lot lot lot lot lot lot lot lot lot lot lot lot lot lot lot lot lot lot lot lot lot lot lot lot lot lot lot lot lot lot lot lot lot lot\n",
            "Training Text: \t\t sostok in order to potty train your bird you need to pay attention to how it behaves right before it goes to the bathroom you should also take note of how often it uses the bathroom this way you will know when to and how often to carry your bird to the bathroom parrots will down slightly and flick their tails up when theyre ready to go to the bathroom watch your bird to see what movements it makes when its getting ready to go also keep track of how often your bird parrots can as often as every 15 minutes this way youll know roughly how often youll need to direct your bird to the bathroom area you want a command to reinforce the behavior you want to be able to say something when you see your bird that will alert it that it needs to go to the bathroom area pick something simple like go potty to teach your bird where to use the bathroom you should have an area in your parrots cage where it can go to the bathroom most people use something like a waste or lay down paper towels or newspaper in a certain portion of their home you can also use paper make sure you pick a space the bird can easily access on its own watch your bird when its out of its cage remember the natural behaviors you noticed that the bird needed to use the bathroom if you see the bird doing things that indicates it needs to go like or its tail immediately move the bird to the bathroom first you will need to use the step up command to get your bird to climb on your arm or finger then take your bird to the potty spot and hold it over the spot until it goes to the bathroom watch your bird closely when it say your command this will help your bird make the connection it will realize its supposed to go to the bathroom in the bathroom people use commands like hurry up if their bird is taking a while to relieve itself for example if your bird has been standing on the potty area for a while you can say something like hurry up and reward your bird as soon as it goes to the bathroom each time the bird goes in the bathroom spot give it a reward parrots respond best to positive reinforcement offer a treat and praise when the bird successfully goes to the bathroom in the right spot choose a specific treat your parrot only gets for using the bathroom so the parrot understands what its being can also reward your bird by letting it out of the cage for a few minutes each time it goes to the bathroom in the proper spot then put it back in its cage until it goes to the bathroom in the right spot again watch your bird closely both inside and outside of its cage as soon as your bird begins take it to the potty spot do this for a few weeks until your bird knows where to relieve itself always say the command and reward your bird for going in the right patient it can be time consuming to be moving the bird to the bathroom area every 10 to 15 minutes but most birds will eventually learn the behavior if you just got a parrot it will need time to adjust to your home potty training or any kind of training can be overwhelming if done too early spend some time letting your bird adjust once your bird is calm and friendly with you you can begin long your bird needs to relax depends on the temperament of the bird some birds come around right away while others need a lot of time you cannot expect a bird to learn right away it will take time and consistency for your parrot to be toilet trained even then you can expect some occasional accidents keep these expectations in mind so you do not get angry or frustrated while training your parrot or striking your parrot will not result in it learning faster in fact this will only stress out your bird high levels of stress can cause behavioral problems even if your bird is not behaving how you want you should never hit or scold it eostok\n",
            "True Summary:\t sostok observe your birds natural behavior choose a command create a potty spot move your bird to the potty spot when he needs to go say your command when your bird defecates reward the behavior take your bird to the potty spot as often as necessary do not train a new bird too early keep your expectations realistic do not scold or hit your parrot\n",
            "Predicted Summary:\t\t someone can a its if the like because the horse great getting friend your like making by a a the another like or dont important try day such much feel have eye talk than try like much more you eye talk someone favorite just just much have do yourself is ask give just have show do time can favorite funny dont making have do time time time time time time time time time time time time time time time time time time time time time time time time time time time time time time time time time time time time time time time time time time time time time time time time time time time time time time time time time time time time time time time time time time time time time time time time time time time time time time time time time time time time time time time time time time time time time time time time time time time time time time time time time time time time time time time time time time time time time time time time time time time time time time time time time time time time time time time time time time time time time time time time time time time time time time time time time time time time time time time time time time time time time time time time time time time time time time time time time time time time time time time time time time time time time time time time time time time time time time time time time time time time time time time time time time time time time time time time time time time time time time time time time time time time time time time time time time time time time time time time time time time time time time time time time time time time time time time time time time time time time time time time time time time time time time time time time time time time time time time time time time time time time time time time time time time time time time time time time time time time time time time time time time time time time time time time time time time time time time time time time time time time time time time time time time time time time time time time time time time time time time time time time time time time time time time time time time time time time time time time time time time time time time time time time time time time time time time time time time time time time time time time time time time time time time time time time time time time time time time time time time time time time time time time time time time time time time time time time time time time time time time time time time time time time time time time time time time time time time time time time time time time time time time time time time time time time time time time time time time time time time time time time time time time time time time time time time time time time time time time time time time time time time time time time time time time time time time time time time time time time time time time time time time time time time time time time time time time time time time time time time time time time time time time time time time time time time time time time time time time time time time time time time time time time time time time time time time time time time time time time time time time time time time time time time time time time time time time time time time time time time time time time time time time time time time time time time time time time time time time time time time time time time time time time time time time time time time time time time time time time time time time time time time time time time time time\n",
            "Training Text: \t\t sostok its best if you get hisher number beforehand while you two have a friendship so that you wont have to to find hisher number however make sure you didnt just get your crushs number from a friend or else heshe might get upset or scared and itll be awkward simply text hey i was thinking it might be fun to go to the dance want to if your crush agrees youre ready to go shopping if your crush declines do not freak out it might be that your crush just isnt ready to start a relationship with you or heshe thinks of you as a friend still keep maintaining that relationship with your crush and treat himher nicely it still has its chances of blossoming into a romantic bond keep in mind that if you take this calmly your crush might change hisher mind eostok\n",
            "True Summary:\t sostok about a week or so before the text your crush to create a good friendly conversation after a few moments of exchanging texts ask himher to go to the dance with you at an appropriate time in the conversation while its still good\n",
            "Predicted Summary:\t\t out just a do a this crush if you try saying now horse bit crush by feel its want maybe your this do know lot seeing then the on a maybe the horses giving friend while other a crush open like you example keep keep keep keep keep keep keep keep keep keep keep keep keep keep keep keep keep keep keep keep keep keep keep keep keep keep keep keep keep keep keep keep keep keep keep keep keep keep keep keep keep keep keep keep keep keep keep keep keep keep keep keep keep keep keep keep keep keep keep keep keep keep keep keep keep keep keep keep keep keep keep keep keep keep keep keep keep keep keep keep keep keep keep keep keep keep keep keep keep keep keep keep keep keep keep keep keep keep keep keep keep keep keep keep keep keep keep keep keep keep keep keep keep keep keep keep keep keep keep keep keep keep keep keep keep keep keep keep keep keep keep keep keep keep keep keep keep keep keep keep keep keep keep keep keep keep keep keep keep keep keep keep keep keep keep keep keep keep keep keep keep keep keep keep keep keep keep keep keep keep keep keep keep keep keep keep keep keep keep keep keep keep keep keep keep keep keep keep keep keep keep keep keep keep keep keep keep keep keep keep\n",
            "Training Text: \t\t sostok by entering someones social circle it becomes easier to spend more time with them this will give you two a chance to grow comfortable together give him a by spending more time with him he can pick up on how you act differently around other people that you are not interested in this will make it easier to see that you only act flirtatious with him by becoming interested in his favorite things you are that you two are compatible this creates a mutual feeling of that is associated relationships compliment the qualities about him that you like and dont be shy to compare him to other men show him that in your mind he is different from other guys you know flirting with other guys is a way to show that others find you desirable and that he should too but dont this can also send mixed messages that you are flirtatious with everyone so follow up flirting with other men by clarify why you would much rather be with someone more like him this is a subconscious way to flirt with him and display interest without having to verbally express yourself which can be hard all of the following body gestures display interest but have subtle difference in what they are attempting to subconsciously direct eye contact shows that you are listening this is a direct way to show that you are genuinely interested not only in the conversation but also in him slowly nodding while you are listening says that you agree with what he is saying this signals that you are compatible in the way you think and that you two would likely be compatible in a relationship or parting lips attention to your lips this subconsciously you are preparing to kiss the other interest looking and creates an of eyes these signal vulnerability and interest in the conversation feet pointed straight at the other person is a natural display of interest in him this direct a lack of interests in everything else around the other person legs crossed into him is showing a subtle interest in only him and that you are closing your legs self off from other things sitting or standing closely sets an intimate space between the two people this that it is more than just a casual conversation but in fact you are sharing intimate details with him mirroring compatibility by mirroring his gestures you are encouraging a mutual feeling of trust in what both of you are saying for every 10 gestures that he does mimic one or two of them or grooming yourself shows a desire to look presentable to the other person frequent touching a feelings between two people this is a strong showing of interest in the other person this is the hardest thing to do because people are often scared of rejection being direct however is the best way to create a conversation about your feelings for each other by saying i like you he will be forced to confront how he feels about you while you might not hear what you want at least you will clear up any confusion that boys like girls who are always nice to him then you would be able to naturally show how you like him for example text him on facebook or other social if he answers you he doesnt hate you at least if he likes you he would be the one who sends the message first eostok\n",
            "True Summary:\t sostok enter his social circle show interest in his likes and dislikes him and dont him to other use the right body language tell him how you feel always be nice to him\n",
            "Predicted Summary:\t\t has him wear completely hair your time is yourself instead say interest more been by really like its if you great very hes the like crush only likes this with his bit day day day day day day day day day day day day day day day day day day day day day day day day day day day day day day day day day day day day day day day day day day day day day day day day day day day day day day day day day day day day day day day day day day day day day day day day day day day day day day day day day day day day day day day day day day day day day day day day day day day day day day day day day day day day day day day day day day day day day day day day day day day day day day day day day day day day day day day day day day day day day day day day day day day day day day day day day day day day day day day day day day day day day day day day day day day day day day day day day day day day day day day day day day day day day day day day day day day day day day day day day day day day day day day day day day day day day day day day day day day day day day day day day day day day day day day day day day day day day day day day day day day day day day day day day day day day day day day day day day day day day day day day day day day day day day day day day day day day day day day day day day day day day day day day day day day day day day day day day day day day day day day day day day day day day day day day day day day day day day day day day day day day day day day day day day day day day day day day day day day day day day day day day day day day day day day day day day day day day day day\n",
            "Training Text: \t\t sostok how do you really feel about your friend perhaps youre just interested in getting to know them a little better or maybe youve found that youre attracted to them and want to get to know them from a different perspective feelings are often confusing things make sure youve out exactly how you feel and what you want before you try taking things to the next if youre attracted to your friend you may decide that its to take things slowly and if the two of you are already close think about the kind of vibes you get from your friend are the two of you close or do you just hang out with the same group of people do they laugh at your jokes and show an interest in what you have to say when youre talking try to gauge your friends feeling as as you can if its obvious that theres no real attraction being reciprocated it might be best to hold off on asking them out if they act towards you however they may have similar feelings and might have even hoped youd ask if you have another friend that knows the friend in question and you feel comfortable talking to them about the situation ask their thoughts on how you should proceed they probably know something you dont one way or the other or have unique into the matter that might not have to you your other friends will eventually find out if youre dating so dont make it look like you were keeping it a secret from them if your other friends learn how you feel they may subtly talk to the friend you like the process keep in mind that your other friends are affected by whether or not you start dating while this shouldnt necessarily prevent you from asking a friend out show enough respect to be about your relationship with that friend and what consequences it might have the next time your group of friends is hanging out look for opportunities to pair up or spend some time alone with the friend that you like this could be playing a game of pool together having a thoughtful oneonone conversation at a party or standing next to each other at a concert get comfortable with the idea of being alone with your friend and try to also get a sense of how they feel about it in these moments if your friend to you during future hangouts its probably a good out your attention to your friends take an opportunity to spend time alone with your friend if one but dont make them feel forced to split off and ignore the rest of your company dont expect too much to happen too soon if at all even if your friend likes you back they may be reluctant to do anything that might jeopardize the relationship that the two of you currently have whatever your friend decides you should be okay with it if you get too set on the idea of dating it may come as a disappointment if your friend declines which could create distance between the two of you as to take no for an answer if your friend agrees to spend time with you oneonone but makes it known that theyre uneasy with the dating label accept their position and plan to find something casual to do put whatever they have about your friendship to rest by them that youll remain friends regardless of how things turn out you should be taking your friends feelings into consideration as well as your own if theyve been giving you flirtatious signals it might be a clue that theyre interested in you and will agree to a date if they seem disinterested or youre having trouble reading their feelings they may be uncomfortable with the idea recognizing the appropriate point to ask a friend on a date will most often come down to personal probably better not to ask your friend out in a group setting where they may feel pressure to respond in a certain way the best way to ask someone on a date in most circumstances is facetoface however since you and your friend already have an established platonic relationship asking them out directly may be awkward or make them feel pressured weigh your options a friendly phone call might do it or you could drop the during a text conversation your friend will probably be most to the idea of going on a date if it doesnt feel like a big deal so dont make it about how your friend does most of their communicating and go with their that way nothing feels off when it comes time to the subject once youve determined how youre going to ask work the offer naturally into a conversation with your friend or be collected and upfront about it the two of you are already friends so there should be a mutual degree of respect and comfort in place frame the question in a way that that the decision is theirs and that you want to remain friends either might be easiest to suggest that just the two of you do something together as friends sometime since this will cause no initial concern of changing the nature of the relationship if your desire is to continue dating as more than friends though make sure youre your intentions honestly if your friend declines your offer smile and carry on in an manner he or she will likely be worried about the friendship if they turn you down make sure that they know youre still happy to be their friend its possible that the time just wasnt right but now that your friend is aware of your feelings they may in time discover that theyre attracted to you as well no matter how things progress between you your friendship is the foundation of your relationship and the most important thing this thought should feel like a safety for you when youre the nerve to ask your friend out if its not what your friend wants or theyre not yet open to the possibility youll have your friendship to fall back on and you should a true friend will understand and be there to make sure everything is okay even if you start dating and things are going well dont forget that they were your friend first the comfort of that bond will make your connection even stronger try to think of your new relationship as a of your friendship not a for it all of your interactions should come from a place of caring and acceptance theres no reason for the friendship to suffer simply because youre trying to build on it dating a friend can sometimes cause complications if you tend to hang around the same people be upfront with your other friends about the situation and let them know that it wont alter the friendship of the group take particular care not to isolate yourselves when youre with your mutual friends this can be easy to do when you first begin to date someone but it might give the rest of your friends the impression that youre disinterested in them since you as friends work on an environment where you can still spend time together even when youre involved with some time each week for all of your friends to get together during this time involve yourself in the groups activities and discussions and dont make it feel like you and the friend you like are yourselves from the rest of your friends if your dating efforts arent met with success dont let it come between you and your friend you knew to keep your expectations out of the picture so theres no need to take it too hard not wanting to date may just mean that he or she values you very highly as a friend which is a good thing theres no harm in liking someone and you shouldnt feel awkward or guilty if you tried and things didnt work out in the worst case scenario you can simply go back to being friends its a shouldnt be embarrassed or feel the need to punish your friend if things dont work from your friend group will make you appear and may send the message that you were only looking to date the person from the beginning allowing resentment to build up will take its on your friendship which is precisely what you dont want to happen whether you hit it off on your date or you dont take pleasure in being around one another starting off as friends means you already know you have common interests can communicate openly and like spending time together look at it as a chance to spend some quality time with the person with no thought to the outcome do things that you both enjoy and the occasion to make new experiences and memories with the friendship at the heart of your a first date keep things from feeling too serious by suggesting a short hike or outside a casual dinner at one of your favorite restaurants followed by coffee or a movie eostok\n",
            "True Summary:\t sostok take a minute to appraise your own feelings consider whether your friend feels the same way talk to your other friends about it spend some alone time together keep your expectations in check make sure the time is right determine the best way to ask ask in a friendly relaxed way remember that youre friends try not to neglect your mutual friends dont despair if it doesnt work out enjoy each others company\n",
            "Predicted Summary:\t\t well feel a crush yourself before this do open use hes then care him by kind bit crush yourself do the is his what the talk eye some yourself what dont some more next what next a try one it or relationship friend your too time crush friend feel no funny your eye since his like like does feel day some face someone crush like feel or no day yourself like have with more more more more more more more more more more more more more more more more more more more more more more more more more more more more more more more more more more more more more more more more more more more more more more more more more more more more more more more more more more more more more more more more more more more more more more more more more more more more more more more more more more more more more more\n",
            "Training Text: \t\t sostok you should point at the dolphin and point lead the dolphin to a directly in front of you maintain eye contact and behavior of dolphin at all times at this point the dolphin will lay backwards and present its tail for you if dolphin does not present its tail correctly complete a least by waiting three seconds and ignoring the dolphin then try the hand again if the dolphin is three times and not done properly stop sample behavior and move on try the sample later in the day or next day eostok\n",
            "True Summary:\t sostok walk onto the with food bucket in hand for positive walk to about 5 from the of the still directly in front of the dolphin and kneel down with the dolphin still at the place your right hand gently on the dolphins nose with the hand that is on the dolphins gently push towards dolphin as if the dolphins head away from you gently grab onto its and place into your lap the dolphin to relax and feel comfortable\n",
            "Predicted Summary:\t\t so hard saying saying you into whether great you will into better go then compliment best not this you a the better one any example best yourself common much example feel feel be crush no just much some have means like is yourself be without conversation talk making a crush or girl because know more start if lot like smile if all a some the lot giving crush no or this next his the like like no more or invite invite invite invite invite invite invite invite invite invite invite invite invite invite invite invite invite invite invite invite invite invite invite invite invite invite invite invite invite invite invite invite invite invite invite invite invite invite invite invite invite invite invite invite invite invite invite invite invite invite invite invite invite invite invite invite invite invite invite invite invite invite invite invite invite invite invite invite invite invite invite invite invite invite invite invite invite invite invite invite invite invite invite invite invite invite invite invite invite invite invite invite invite invite invite invite invite invite invite invite invite invite invite invite invite invite invite invite invite invite invite invite invite invite invite invite invite invite invite invite invite invite invite invite invite invite invite invite invite invite invite invite invite invite invite invite invite invite invite invite invite invite invite invite invite invite invite invite invite invite invite invite invite invite invite invite invite invite invite invite invite invite invite invite invite invite invite invite invite invite invite invite invite invite invite invite invite invite invite invite invite invite invite invite invite invite invite invite invite invite invite invite invite invite invite invite invite invite invite invite invite invite invite invite invite invite invite invite invite invite invite invite invite invite invite invite invite invite invite invite invite invite invite invite invite invite invite invite invite invite invite invite invite invite invite invite invite invite invite invite invite invite invite invite invite invite invite invite invite invite invite invite invite invite invite invite invite invite invite invite invite invite invite invite invite invite invite invite invite invite invite invite invite invite invite invite invite invite invite invite invite invite invite invite invite invite invite invite invite invite invite invite invite invite invite invite invite invite invite invite invite invite invite invite invite invite invite invite invite invite invite invite invite invite invite invite invite invite invite invite invite invite invite invite\n"
          ]
        }
      ]
    },
    {
      "cell_type": "markdown",
      "source": [
        "### Metrics:"
      ],
      "metadata": {
        "id": "u153HP_42F9F"
      }
    },
    {
      "cell_type": "code",
      "source": [
        "from nltk.translate.bleu_score import sentence_bleu\n",
        "scores=0\n",
        "for i in range(len(X)):\n",
        "    reference = [X[i][0][0].split(\" \")]\n",
        "    candidate = Y[i][0][0].split(\" \")\n",
        "    scores+= sentence_bleu(reference, candidate, weights=(1, 0, 0, 0))\n",
        "print(scores/i)"
      ],
      "metadata": {
        "colab": {
          "base_uri": "https://localhost:8080/"
        },
        "id": "QeZHHHnYmd0F",
        "outputId": "b2b29a62-786d-4f9c-8dc3-52d1f5abd17d"
      },
      "execution_count": null,
      "outputs": [
        {
          "output_type": "stream",
          "name": "stdout",
          "text": [
            "0.041381927511269116\n"
          ]
        },
        {
          "output_type": "stream",
          "name": "stderr",
          "text": [
            "/usr/local/lib/python3.7/dist-packages/nltk/translate/bleu_score.py:552: UserWarning: \n",
            "The hypothesis contains 0 counts of 2-gram overlaps.\n",
            "Therefore the BLEU score evaluates to 0, independently of\n",
            "how many N-gram overlaps of lower order it contains.\n",
            "Consider using lower n-gram order or use SmoothingFunction()\n",
            "  warnings.warn(_msg)\n",
            "/usr/local/lib/python3.7/dist-packages/nltk/translate/bleu_score.py:552: UserWarning: \n",
            "The hypothesis contains 0 counts of 3-gram overlaps.\n",
            "Therefore the BLEU score evaluates to 0, independently of\n",
            "how many N-gram overlaps of lower order it contains.\n",
            "Consider using lower n-gram order or use SmoothingFunction()\n",
            "  warnings.warn(_msg)\n",
            "/usr/local/lib/python3.7/dist-packages/nltk/translate/bleu_score.py:552: UserWarning: \n",
            "The hypothesis contains 0 counts of 4-gram overlaps.\n",
            "Therefore the BLEU score evaluates to 0, independently of\n",
            "how many N-gram overlaps of lower order it contains.\n",
            "Consider using lower n-gram order or use SmoothingFunction()\n",
            "  warnings.warn(_msg)\n"
          ]
        }
      ]
    },
    {
      "cell_type": "code",
      "source": [
        "!pip install rouge-score\n",
        "from rouge_score import rouge_scorer\n",
        "\n",
        "scorer = rouge_scorer.RougeScorer(['rouge1', 'rougeL'], use_stemmer=True)"
      ],
      "metadata": {
        "colab": {
          "base_uri": "https://localhost:8080/"
        },
        "id": "O7EOLcNlpcL_",
        "outputId": "784479f5-7d6d-4db8-d2dc-6cc264d320de"
      },
      "execution_count": null,
      "outputs": [
        {
          "output_type": "stream",
          "name": "stdout",
          "text": [
            "Looking in indexes: https://pypi.org/simple, https://us-python.pkg.dev/colab-wheels/public/simple/\n",
            "Collecting rouge-score\n",
            "  Downloading rouge_score-0.1.2.tar.gz (17 kB)\n",
            "Requirement already satisfied: absl-py in /usr/local/lib/python3.7/dist-packages (from rouge-score) (1.2.0)\n",
            "Requirement already satisfied: nltk in /usr/local/lib/python3.7/dist-packages (from rouge-score) (3.7)\n",
            "Requirement already satisfied: numpy in /usr/local/lib/python3.7/dist-packages (from rouge-score) (1.21.6)\n",
            "Requirement already satisfied: six>=1.14.0 in /usr/local/lib/python3.7/dist-packages (from rouge-score) (1.15.0)\n",
            "Requirement already satisfied: click in /usr/local/lib/python3.7/dist-packages (from nltk->rouge-score) (7.1.2)\n",
            "Requirement already satisfied: joblib in /usr/local/lib/python3.7/dist-packages (from nltk->rouge-score) (1.1.0)\n",
            "Requirement already satisfied: tqdm in /usr/local/lib/python3.7/dist-packages (from nltk->rouge-score) (4.64.0)\n",
            "Requirement already satisfied: regex>=2021.8.3 in /usr/local/lib/python3.7/dist-packages (from nltk->rouge-score) (2022.6.2)\n",
            "Building wheels for collected packages: rouge-score\n",
            "  Building wheel for rouge-score (setup.py) ... \u001b[?25l\u001b[?25hdone\n",
            "  Created wheel for rouge-score: filename=rouge_score-0.1.2-py3-none-any.whl size=24955 sha256=864ff4c4c36afd8b7676e88d39cb11f2f4b02647b3b58461343b3a1c0429d7df\n",
            "  Stored in directory: /root/.cache/pip/wheels/84/ac/6b/38096e3c5bf1dc87911e3585875e21a3ac610348e740409c76\n",
            "Successfully built rouge-score\n",
            "Installing collected packages: rouge-score\n",
            "Successfully installed rouge-score-0.1.2\n"
          ]
        }
      ]
    },
    {
      "cell_type": "code",
      "source": [
        "X[0][0][0]"
      ],
      "metadata": {
        "colab": {
          "base_uri": "https://localhost:8080/",
          "height": 70
        },
        "id": "jrovRj8XrsIF",
        "outputId": "db3c172a-9c13-4a77-f70d-909b3d550aa4"
      },
      "execution_count": null,
      "outputs": [
        {
          "output_type": "execute_result",
          "data": {
            "text/plain": [
              "'sostok get a small garbage can or round cylindershaped object of some sort place your guinea pig in the general area use a treat to lure your guinea pig to it stand back and see if the guinea pig will try to go around on its own eventually begin only treating your guinea pig when they make a full circle around the object begin enforcing a hand motion take the garbage can away gradually'"
            ],
            "application/vnd.google.colaboratory.intrinsic+json": {
              "type": "string"
            }
          },
          "metadata": {},
          "execution_count": 61
        }
      ]
    },
    {
      "cell_type": "code",
      "source": [
        "\n",
        "scores=[]\n",
        "for i in range(len(X)):\n",
        "    reference = Y[i][0][0]\n",
        "    candidate = X[i][0][0]\n",
        "    d=scorer.score(reference,candidate)['rouge1']\n",
        "    print(d)\n",
        "    scores.append(d[2])\n"
      ],
      "metadata": {
        "colab": {
          "base_uri": "https://localhost:8080/"
        },
        "id": "evMDOAo0rCgH",
        "outputId": "8d4157d5-b4a5-4f23-f8c6-528b09d59481"
      },
      "execution_count": null,
      "outputs": [
        {
          "output_type": "stream",
          "name": "stdout",
          "text": [
            "Score(precision=0.20270270270270271, recall=0.06465517241379311, fmeasure=0.09803921568627451)\n",
            "Score(precision=0.21428571428571427, recall=0.032846715328467155, fmeasure=0.0569620253164557)\n",
            "Score(precision=0.078125, recall=0.013404825737265416, fmeasure=0.022883295194508012)\n",
            "Score(precision=0.15384615384615385, recall=0.014367816091954023, fmeasure=0.026281208935611037)\n",
            "Score(precision=0.22727272727272727, recall=0.0411522633744856, fmeasure=0.06968641114982578)\n",
            "Score(precision=0.18181818181818182, recall=0.015345268542199489, fmeasure=0.028301886792452834)\n",
            "Score(precision=0.22972972972972974, recall=0.1069182389937107, fmeasure=0.1459227467811159)\n",
            "Score(precision=0.1, recall=0.019851116625310174, fmeasure=0.033126293995859216)\n"
          ]
        }
      ]
    },
    {
      "cell_type": "code",
      "source": [
        "np.mean([i for i in scores])"
      ],
      "metadata": {
        "colab": {
          "base_uri": "https://localhost:8080/"
        },
        "id": "KPSlAY7LrSYn",
        "outputId": "e16f673f-5fa8-4ea4-b385-7309dadda5e9"
      },
      "execution_count": null,
      "outputs": [
        {
          "output_type": "execute_result",
          "data": {
            "text/plain": [
              "0.06015038548151287"
            ]
          },
          "metadata": {},
          "execution_count": 72
        }
      ]
    },
    {
      "cell_type": "code",
      "source": [
        ""
      ],
      "metadata": {
        "id": "mCSTVS1ksRP9"
      },
      "execution_count": null,
      "outputs": []
    }
  ]
}